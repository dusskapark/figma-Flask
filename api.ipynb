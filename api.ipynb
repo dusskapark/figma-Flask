{
 "cells": [
  {
   "cell_type": "code",
   "execution_count": 4,
   "metadata": {},
   "outputs": [],
   "source": [
    "# cell 1\n",
    "from flask import Flask, jsonify, request\n",
    "from flask_cors import CORS\n",
    "import json\n",
    "\n",
    "app = Flask(__name__)\n",
    "CORS(app)  # Enable CORS\n",
    "\n",
    "@app.route('/hello/world', methods=['GET'])\n",
    "def hello_world():\n",
    "    response = {'message': 'Hello, world!'}\n",
    "    return jsonify(response)\n",
    "\n",
    "@app.route('/hello2', methods=['GET'])\n",
    "def hello2():\n",
    "    response = {'message': 'real time update?'}\n",
    "    return jsonify(response)\n",
    "\n",
    "@app.route('/post', methods=['POST'])\n",
    "def post():\n",
    "    data = request.get_json()\n",
    "    with open('data.json', 'w') as f:\n",
    "        json.dump(data, f)\n",
    "    return '', 204  # Return HTTP status code 204 (No Content)\n"
   ]
  },
  {
   "cell_type": "code",
   "execution_count": 5,
   "metadata": {},
   "outputs": [
    {
     "name": "stdout",
     "output_type": "stream",
     "text": [
      " * Serving Flask app '__main__'\n",
      " * Debug mode: off\n"
     ]
    },
    {
     "name": "stderr",
     "output_type": "stream",
     "text": [
      "\u001b[31m\u001b[1mWARNING: This is a development server. Do not use it in a production deployment. Use a production WSGI server instead.\u001b[0m\n",
      " * Running on http://127.0.0.1:5000\n",
      "\u001b[33mPress CTRL+C to quit\u001b[0m\n",
      "127.0.0.1 - - [19/Aug/2023 17:33:35] \"OPTIONS /hello2 HTTP/1.1\" 200 -\n",
      "127.0.0.1 - - [19/Aug/2023 17:33:35] \"GET /hello2 HTTP/1.1\" 200 -\n",
      "127.0.0.1 - - [19/Aug/2023 17:33:40] \"OPTIONS /hello/world HTTP/1.1\" 200 -\n",
      "127.0.0.1 - - [19/Aug/2023 17:33:40] \"GET /hello/world HTTP/1.1\" 200 -\n",
      "127.0.0.1 - - [19/Aug/2023 17:33:41] \"OPTIONS /post HTTP/1.1\" 200 -\n",
      "127.0.0.1 - - [19/Aug/2023 17:33:41] \"\u001b[35m\u001b[1mPOST /post HTTP/1.1\u001b[0m\" 204 -\n"
     ]
    }
   ],
   "source": [
    "#cell 2\n",
    "if __name__ == '__main__':\n",
    "    app.run(port=5000)"
   ]
  },
  {
   "cell_type": "code",
   "execution_count": 6,
   "metadata": {},
   "outputs": [
    {
     "name": "stdout",
     "output_type": "stream",
     "text": [
      "{'documentName': 'Android Travel App (Community)'}\n"
     ]
    }
   ],
   "source": [
    "# cell 3\n",
    "with open('data.json', 'r') as f:\n",
    "    data = json.load(f)\n",
    "print(data)\n"
   ]
  },
  {
   "cell_type": "code",
   "execution_count": null,
   "metadata": {},
   "outputs": [],
   "source": []
  }
 ],
 "metadata": {
  "kernelspec": {
   "display_name": "Python 3 (ipykernel)",
   "language": "python",
   "name": "python3"
  },
  "language_info": {
   "codemirror_mode": {
    "name": "ipython",
    "version": 3
   },
   "file_extension": ".py",
   "mimetype": "text/x-python",
   "name": "python",
   "nbconvert_exporter": "python",
   "pygments_lexer": "ipython3",
   "version": "3.9.6"
  }
 },
 "nbformat": 4,
 "nbformat_minor": 2
}
