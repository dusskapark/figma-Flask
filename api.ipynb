{
 "cells": [
  {
   "cell_type": "code",
   "execution_count": 5,
   "metadata": {},
   "outputs": [],
   "source": [
    "from flask import Flask, jsonify\n",
    "from flask_cors import CORS\n",
    "\n",
    "app = Flask(__name__)\n",
    "CORS(app)  # 이 코드를 추가합니다.\n",
    "\n",
    "@app.route('/hello/world', methods=['GET'])\n",
    "def hello_world():\n",
    "    response = {'message': 'Hello, world!'}\n",
    "    return jsonify(response)\n",
    "\n",
    "@app.route('/hello2', methods=['GET'])\n",
    "def hello2():\n",
    "    response = {'message': 'real time update?'}\n",
    "    return jsonify(response)"
   ]
  },
  {
   "cell_type": "code",
   "execution_count": 6,
   "metadata": {},
   "outputs": [
    {
     "name": "stdout",
     "output_type": "stream",
     "text": [
      " * Serving Flask app '__main__'\n",
      " * Debug mode: off\n"
     ]
    },
    {
     "name": "stderr",
     "output_type": "stream",
     "text": [
      "\u001b[31m\u001b[1mWARNING: This is a development server. Do not use it in a production deployment. Use a production WSGI server instead.\u001b[0m\n",
      " * Running on http://127.0.0.1:5000\n",
      "\u001b[33mPress CTRL+C to quit\u001b[0m\n",
      "127.0.0.1 - - [18/Aug/2023 18:44:34] \"GET /hello/world HTTP/1.1\" 200 -\n",
      "127.0.0.1 - - [18/Aug/2023 18:44:58] \"OPTIONS /hello2 HTTP/1.1\" 200 -\n",
      "127.0.0.1 - - [18/Aug/2023 18:44:58] \"GET /hello2 HTTP/1.1\" 200 -\n",
      "127.0.0.1 - - [18/Aug/2023 18:45:04] \"OPTIONS /hello2 HTTP/1.1\" 200 -\n",
      "127.0.0.1 - - [18/Aug/2023 18:45:04] \"GET /hello2 HTTP/1.1\" 200 -\n",
      "127.0.0.1 - - [18/Aug/2023 18:47:28] \"OPTIONS /hello/world HTTP/1.1\" 200 -\n",
      "127.0.0.1 - - [18/Aug/2023 18:47:28] \"GET /hello/world HTTP/1.1\" 200 -\n",
      "127.0.0.1 - - [18/Aug/2023 18:47:30] \"OPTIONS /hello2 HTTP/1.1\" 200 -\n",
      "127.0.0.1 - - [18/Aug/2023 18:47:30] \"GET /hello2 HTTP/1.1\" 200 -\n",
      "127.0.0.1 - - [18/Aug/2023 18:47:36] \"OPTIONS /hello2 HTTP/1.1\" 200 -\n",
      "127.0.0.1 - - [18/Aug/2023 18:47:36] \"GET /hello2 HTTP/1.1\" 200 -\n",
      "127.0.0.1 - - [18/Aug/2023 18:47:38] \"OPTIONS /hello/world HTTP/1.1\" 200 -\n",
      "127.0.0.1 - - [18/Aug/2023 18:47:38] \"GET /hello/world HTTP/1.1\" 200 -\n"
     ]
    }
   ],
   "source": [
    "if __name__ == '__main__':\n",
    "    app.run(port=5000)"
   ]
  },
  {
   "cell_type": "code",
   "execution_count": null,
   "metadata": {},
   "outputs": [],
   "source": []
  }
 ],
 "metadata": {
  "kernelspec": {
   "display_name": "Python 3 (ipykernel)",
   "language": "python",
   "name": "python3"
  },
  "language_info": {
   "codemirror_mode": {
    "name": "ipython",
    "version": 3
   },
   "file_extension": ".py",
   "mimetype": "text/x-python",
   "name": "python",
   "nbconvert_exporter": "python",
   "pygments_lexer": "ipython3",
   "version": "3.9.6"
  }
 },
 "nbformat": 4,
 "nbformat_minor": 2
}
